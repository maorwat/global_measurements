{
 "cells": [
  {
   "cell_type": "code",
   "execution_count": 1,
   "id": "e9dc68d6",
   "metadata": {},
   "outputs": [],
   "source": [
    "from pathlib import Path\n",
    "import sys\n",
    "import pandas as pd\n",
    "import plotly.graph_objects as go\n",
    "\n",
    "home_path = str(Path.cwd().parent)\n",
    "sys.path.append(home_path)\n",
    "\n",
    "sys.path.append('/eos/user/m/morwat/.local/lib/python3.9/site-packages/')"
   ]
  },
  {
   "cell_type": "code",
   "execution_count": 2,
   "id": "106bd3ec",
   "metadata": {},
   "outputs": [],
   "source": [
    "from global_package.tool import Tool"
   ]
  },
  {
   "cell_type": "code",
   "execution_count": 3,
   "id": "cdad6a3e",
   "metadata": {},
   "outputs": [],
   "source": [
    "# Start of the measurements\n",
    "start_time = pd.to_datetime('2022-06-21 21:20:00')\n",
    "# End of the measurements\n",
    "end_time = pd.to_datetime('2022-06-21 21:24:00')"
   ]
  },
  {
   "cell_type": "code",
   "execution_count": 4,
   "id": "f8ea4d73",
   "metadata": {
    "scrolled": false
   },
   "outputs": [
    {
     "data": {
      "application/vnd.jupyter.widget-view+json": {
       "model_id": "f0d096fa141e4f5c8bdff2d9b586012b",
       "version_major": 2,
       "version_minor": 0
      },
      "text/plain": [
       "VBox(children=(HBox(children=(VBox(children=(HBox(children=(DatePicker(value=datetime.date(2024, 12, 3), descr…"
      ]
     },
     "metadata": {},
     "output_type": "display_data"
    }
   ],
   "source": [
    "tool = Tool(spark)\n",
    "tool.show()"
   ]
  },
  {
   "cell_type": "code",
   "execution_count": null,
   "id": "218c4bd0",
   "metadata": {},
   "outputs": [],
   "source": []
  }
 ],
 "metadata": {
  "@webio": {
   "lastCommId": null,
   "lastKernelId": null
  },
  "kernelspec": {
   "display_name": "Python 3",
   "language": "python",
   "name": "python3"
  },
  "language_info": {
   "codemirror_mode": {
    "name": "ipython",
    "version": 3
   },
   "file_extension": ".py",
   "mimetype": "text/x-python",
   "name": "python",
   "nbconvert_exporter": "python",
   "pygments_lexer": "ipython3",
   "version": "3.9.12"
  },
  "sparkconnect": {
   "bundled_options": [
    "NXCALS",
    "SparkMetrics"
   ],
   "list_of_options": []
  }
 },
 "nbformat": 4,
 "nbformat_minor": 5
}
